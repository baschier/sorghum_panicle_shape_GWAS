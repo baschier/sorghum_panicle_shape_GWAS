{
 "cells": [
  {
   "cell_type": "code",
   "execution_count": null,
   "metadata": {},
   "outputs": [],
   "source": [
    "#!/usr/local/cluster/bin/python3\n",
    "\n",
    "import sys, re\n",
    "from io import StringIO\n",
    "import pandas as pd\n",
    "import csv\n",
    "\n",
    "\n",
    "#take in arguments from command line, argument 1 is the output of the phytozome_gene_finder.py (candidate gene list), argument 2 is the annotation file with gene functions, argument 3 is output file name\n",
    "f1 = sys.argv[1]\n",
    "f2 = sys.argv[2]\n",
    "f3 = sys.argv[3]\n",
    "\n",
    "#write output to file named in arguments\n",
    "output = open(f3, \"w\")\n",
    "\n",
    "og_file = open(f1,\"r\")\n",
    "og_iter = og_file.readlines()\n",
    "ann_file = open(f2, \"r\")\n",
    "ann_file_iter = ann_file.readlines()\n",
    "with open(f1) as csvfile:\n",
    "        for line in csvfile:\n",
    "                line = line.split(\"\\t\")\n",
    "                match = re.search(\"Name=Sobic\\S{11}\", line[11])\n",
    "                if match:\n",
    "                        #print(match)\n",
    "                        match_str = match.group()\n",
    "                        gene_split = match_str.split(\"=\")\n",
    "                        SobicID = gene_split[1]\n",
    "                        for ann_line in ann_file_iter:\n",
    "                                if SobicID in ann_line:\n",
    "                                        ann_line = ann_line.split(\"\\t\")\n",
    "                                        output.write(line[0] +  \"\\t\" + line[3] + \"\\t\" + line[6] + \"\\t\" + line[7] + \"\\t\" + line[8] + \"\\t\" + line[9] + \"\\t\" + line[10] + \"\\t\" + SobicID + \"\\t\" + ann_line[12] + \"\\t\" + ann_line[15] + \"\\n\")\n",
    "\n"
   ]
  }
 ],
 "metadata": {
  "kernelspec": {
   "display_name": "Python 3",
   "language": "python",
   "name": "python3"
  },
  "language_info": {
   "codemirror_mode": {
    "name": "ipython",
    "version": 3
   },
   "file_extension": ".py",
   "mimetype": "text/x-python",
   "name": "python",
   "nbconvert_exporter": "python",
   "pygments_lexer": "ipython3",
   "version": "3.8.5"
  }
 },
 "nbformat": 4,
 "nbformat_minor": 4
}
